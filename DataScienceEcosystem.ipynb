{
 "cells": [
  {
   "cell_type": "markdown",
   "id": "0356b983-2584-420b-8f9a-986e72b8fcba",
   "metadata": {},
   "source": [
    "# Data Science Tools and Ecosystem"
   ]
  },
  {
   "cell_type": "markdown",
   "id": "460fea8b-d4b5-43c4-8967-ca9bc062581e",
   "metadata": {},
   "source": [
    "In this notebook, Data Science Tools and Ecosystem are summarized."
   ]
  },
  {
   "cell_type": "markdown",
   "id": "ba456b13-aaf6-4352-9908-e86ccdafee2d",
   "metadata": {},
   "source": [
    "**Objectives:**\n",
    "- Popular Languages in Data Science\n",
    "- Data Science Libraries\n",
    "- Data Science Tools\n",
    "- Basic arithmetics"
   ]
  },
  {
   "cell_type": "markdown",
   "id": "a1f78fff-a6d5-4dda-9644-270f2bfe300e",
   "metadata": {},
   "source": [
    "Some of the popular languages that Data Scientists use are:\n",
    "1. Python\n",
    "2. R\n",
    "3. Hadoop"
   ]
  },
  {
   "cell_type": "markdown",
   "id": "d8f52859-50e2-4e2d-b880-164854f427ad",
   "metadata": {},
   "source": [
    "Some of the commonly used libraries used by Data Scientists include:\n",
    "1. Pandas\n",
    "2. NumPy\n",
    "3. Matplotlib\n",
    "4. Scikit-learn\n",
    "5. TensorFlow\n",
    "6. Kera"
   ]
  },
  {
   "cell_type": "markdown",
   "id": "83c2c38f-6e45-47ed-9f63-43b8fdf67e6a",
   "metadata": {},
   "source": [
    "|Data Science Tools|\n",
    "|--------|\n",
    "|Vs Code|\n",
    "|PyCharm|\n",
    "|Atom|"
   ]
  },
  {
   "cell_type": "markdown",
   "id": "72a45c36-9fb8-45f9-af5d-d9fc82ad1916",
   "metadata": {},
   "source": [
    "### Below are a few examples of evaluating arithmetic expressions in Python"
   ]
  },
  {
   "cell_type": "code",
   "execution_count": 1,
   "id": "8073364d-920d-4c82-9efb-d155988aa0b4",
   "metadata": {},
   "outputs": [
    {
     "data": {
      "text/plain": [
       "17"
      ]
     },
     "execution_count": 1,
     "metadata": {},
     "output_type": "execute_result"
    }
   ],
   "source": [
    "# This a simple arithmetic expression to multiply then add integers\n",
    "(3*4)+5"
   ]
  },
  {
   "cell_type": "code",
   "execution_count": 3,
   "id": "462b24a4-fc98-4cdf-8652-3d0a0970db71",
   "metadata": {},
   "outputs": [
    {
     "name": "stdout",
     "output_type": "stream",
     "text": [
      "3.3333333333333335\n"
     ]
    }
   ],
   "source": [
    "# This will convert 200 minutes to hours by diving by 60\n",
    "minutes = 200\n",
    "hours = minutes/60\n",
    "print(hours)"
   ]
  },
  {
   "cell_type": "markdown",
   "id": "2daca9d2-2a07-4b51-9533-e202932002d1",
   "metadata": {},
   "source": [
    "## Author\n",
    "Osei-Tutu Boakye"
   ]
  },
  {
   "cell_type": "code",
   "execution_count": null,
   "id": "861e9ef3-fb7f-46af-9830-69e4b0d766c4",
   "metadata": {},
   "outputs": [],
   "source": []
  }
 ],
 "metadata": {
  "kernelspec": {
   "display_name": "Python 3 (ipykernel)",
   "language": "python",
   "name": "python3"
  },
  "language_info": {
   "codemirror_mode": {
    "name": "ipython",
    "version": 3
   },
   "file_extension": ".py",
   "mimetype": "text/x-python",
   "name": "python",
   "nbconvert_exporter": "python",
   "pygments_lexer": "ipython3",
   "version": "3.11.7"
  }
 },
 "nbformat": 4,
 "nbformat_minor": 5
}
